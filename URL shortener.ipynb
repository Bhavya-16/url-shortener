{
 "cells": [
  {
   "cell_type": "code",
   "execution_count": 2,
   "id": "0b7f8b26",
   "metadata": {},
   "outputs": [
    {
     "name": "stdout",
     "output_type": "stream",
     "text": [
      "Collecting pyshorteners==1.0.1\n",
      "  Downloading pyshorteners-1.0.1.tar.gz (10.0 kB)\n",
      "Requirement already satisfied: requests in c:\\users\\jakka\\anaconda3\\lib\\site-packages (from pyshorteners==1.0.1) (2.27.1)\n",
      "Requirement already satisfied: charset-normalizer~=2.0.0 in c:\\users\\jakka\\anaconda3\\lib\\site-packages (from requests->pyshorteners==1.0.1) (2.0.4)\n",
      "Requirement already satisfied: idna<4,>=2.5 in c:\\users\\jakka\\anaconda3\\lib\\site-packages (from requests->pyshorteners==1.0.1) (2.10)\n",
      "Requirement already satisfied: urllib3<1.27,>=1.21.1 in c:\\users\\jakka\\anaconda3\\lib\\site-packages (from requests->pyshorteners==1.0.1) (1.26.9)\n",
      "Requirement already satisfied: certifi>=2017.4.17 in c:\\users\\jakka\\anaconda3\\lib\\site-packages (from requests->pyshorteners==1.0.1) (2021.10.8)\n",
      "Building wheels for collected packages: pyshorteners\n",
      "  Building wheel for pyshorteners (setup.py): started\n",
      "  Building wheel for pyshorteners (setup.py): finished with status 'done'\n",
      "  Created wheel for pyshorteners: filename=pyshorteners-1.0.1-py3-none-any.whl size=17498 sha256=8c1ced4c09c4ef868b3454b034f9e55b6e1211bb3df8384b659338bdafe251c9\n",
      "  Stored in directory: c:\\users\\jakka\\appdata\\local\\pip\\cache\\wheels\\51\\56\\d8\\765ad4c919190fbd24541487735547e6c665c9381d4d689ae8\n",
      "Successfully built pyshorteners\n",
      "Installing collected packages: pyshorteners\n",
      "Successfully installed pyshorteners-1.0.1\n",
      "Note: you may need to restart the kernel to use updated packages.\n"
     ]
    }
   ],
   "source": [
    "pip install pyshorteners==1.0.1"
   ]
  },
  {
   "cell_type": "code",
   "execution_count": 4,
   "id": "d2429800",
   "metadata": {},
   "outputs": [
    {
     "name": "stdout",
     "output_type": "stream",
     "text": [
      "Enter a URL to shorten :https://en.wikipedia.org/wiki/URL\n",
      "Long URL :https://en.wikipedia.org/wiki/URL\n",
      "short URL :https://tinyurl.com/l8vjxgg\n"
     ]
    }
   ],
   "source": [
    "import pyshorteners\n",
    "S = pyshorteners.Shortener()\n",
    "\n",
    "long_url = input(\"Enter a URL to shorten :\")\n",
    "\n",
    "short_url = S.tinyurl.short(long_url)\n",
    "\n",
    "print(f\"Long URL :{long_url}\")\n",
    "print(f\"short URL :{short_url}\")"
   ]
  },
  {
   "cell_type": "code",
   "execution_count": null,
   "id": "3759147c",
   "metadata": {},
   "outputs": [],
   "source": []
  }
 ],
 "metadata": {
  "kernelspec": {
   "display_name": "Python 3 (ipykernel)",
   "language": "python",
   "name": "python3"
  },
  "language_info": {
   "codemirror_mode": {
    "name": "ipython",
    "version": 3
   },
   "file_extension": ".py",
   "mimetype": "text/x-python",
   "name": "python",
   "nbconvert_exporter": "python",
   "pygments_lexer": "ipython3",
   "version": "3.9.12"
  }
 },
 "nbformat": 4,
 "nbformat_minor": 5
}
